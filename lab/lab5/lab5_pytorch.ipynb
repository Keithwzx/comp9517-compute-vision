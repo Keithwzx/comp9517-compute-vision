{
 "cells": [
  {
   "cell_type": "code",
   "execution_count": 133,
   "metadata": {},
   "outputs": [
    {
     "name": "stderr",
     "output_type": "stream",
     "text": [
      "/anaconda3/lib/python3.6/site-packages/ipykernel_launcher.py:21: UserWarning: To copy construct from a tensor, it is recommended to use sourceTensor.clone().detach() or sourceTensor.clone().detach().requires_grad_(True), rather than torch.tensor(sourceTensor).\n",
      "/anaconda3/lib/python3.6/site-packages/ipykernel_launcher.py:28: UserWarning: To copy construct from a tensor, it is recommended to use sourceTensor.clone().detach() or sourceTensor.clone().detach().requires_grad_(True), rather than torch.tensor(sourceTensor).\n"
     ]
    },
    {
     "name": "stdout",
     "output_type": "stream",
     "text": [
      "Epoch: 10 Test Accuracy: 0.816\n",
      "Epoch: 20 Test Accuracy: 0.912\n",
      "Epoch: 30 Test Accuracy: 0.92\n",
      "Epoch: 40 Test Accuracy: 0.936\n",
      "Epoch: 50 Test Accuracy: 0.948\n",
      "Epoch: 60 Test Accuracy: 0.964\n",
      "Epoch: 70 Test Accuracy: 0.966\n",
      "Epoch: 80 Test Accuracy: 0.968\n",
      "Epoch: 90 Test Accuracy: 0.97\n",
      "Epoch: 100 Test Accuracy: 0.972\n"
     ]
    }
   ],
   "source": [
    "# 怎样normalization？\n",
    "# report？\n",
    "import numpy as np\n",
    "import torch\n",
    "import pandas as pd\n",
    "from torch.nn import functional as F\n",
    "from torch import nn, optim\n",
    "import torchvision\n",
    "from matplotlib import pyplot as plt\n",
    "from torch.autograd import Variable\n",
    "# from python3_utils import plot_image, plot_curve, one_hot\n",
    "\n",
    "# Load data(do not change)\n",
    "data = pd.read_csv(\"src/mnist_train.csv\")\n",
    "train_data = data[:2000]\n",
    "test_data = data[2000:2500]\n",
    "\n",
    "\n",
    "# ----- Prepare Data ----- #\n",
    "# step one: preparing your data including data normalization\n",
    "train_label = torch.tensor(np.array(train_data.iloc[:,0]))\n",
    "train_data = torch.tensor(np.array(train_data.iloc[:,1:])/255).reshape(2000,1,28,28)\n",
    "train_data = torch.tensor(train_data, dtype=torch.float32)       ############ important!\n",
    "\n",
    "\n",
    "# train_data = torch.utils.data.TensorDataset(train_data, train_label)\n",
    "\n",
    "test_label = torch.tensor(np.array(test_data.iloc[:,0]))\n",
    "test_data = torch.tensor(np.array(test_data.iloc[:,1:])/255).reshape(500,1,28,28)\n",
    "test_data = torch.tensor(test_data, dtype=torch.float32)\n",
    "# test_data = torch.utils.data.TensorDataset(test_data.reshape(500,1,28,28), test_label)\n",
    "\n",
    "# step two: transform np array to pytorch tensor\n",
    "\n",
    "\n",
    "# train_loader =  torch.utils.data.DataLoader(train_data, batch_size=64, shuffle=False)\n",
    "# test_loader =  torch.utils.data.DataLoader(test_data, batch_size=64, shuffle=False)\n",
    "\n",
    "\n",
    "# ----- Build CNN Network ----- #\n",
    "# Define your model here\n",
    "class mymodel(torch.nn.Module):\n",
    "    def __init__(self):\n",
    "        super(mymodel, self).__init__()\n",
    "        self.conv1 = nn.Conv2d(1, 10, 5, 1)\n",
    "        self.conv2 = nn.Conv2d(10, 50, 5, 1)\n",
    "        self.max_pool = nn.MaxPool2d(2)\n",
    "        self.linear1 = nn.Linear(800, 256)\n",
    "        self.linear2 = nn.Linear(256, 10)\n",
    "\n",
    "\n",
    "    def forward(self, x):\n",
    "        x = F.relu(self.conv1(x))\n",
    "        x = self.max_pool(x)\n",
    "        x = F.relu(self.conv2(x))\n",
    "        x = self.max_pool(x)\n",
    "\n",
    "        x = x.view(x.size(0), -1)  # make sure inputs are flattened\n",
    "\n",
    "        x = F.relu(self.linear1(x))\n",
    "        x = self.linear2(x)\n",
    "        x = F.log_softmax(x, dim=1)  # preserve batch dim\n",
    "        return x\n",
    "\n",
    "# Define our model\n",
    "model = mymodel()\n",
    "# Define your learning rate\n",
    "learning_rate = 0.003\n",
    "# Define your optimizer\n",
    "optimizer = optim.Adam(model.parameters(), lr=learning_rate)\n",
    "# Define your loss function\n",
    "criterion = torch.nn.NLLLoss()\n",
    "\n",
    "\n",
    "# ----- Complete PlotLearningCurve function ----- #\n",
    "def PlotLearningCurve(epoch, trainingloss, testingloss):\n",
    "    plt.plot(trainingloss, label='training loss')\n",
    "    plt.plot(testingloss, label='testing loss')\n",
    "    plt.legend(loc='best')\n",
    "    plt.xlabel('epoch')\n",
    "    plt.ylabel('loss')\n",
    "    plt.xlim((0,50))\n",
    "    plt.ylim((0,2.0))\n",
    "    plt.show()\n",
    "    \n",
    "\n",
    "\n",
    "# ----- Main Function ----- #\n",
    "trainingloss = []\n",
    "testingloss = []\n",
    "# Define number of iterations\n",
    "epochs = 100\n",
    "for epoch in range(1, epochs + 1):\n",
    "    model.train()\n",
    "#     for images, labels in train_loader:\n",
    "    # step one : fit your model by using training data and get predict label\n",
    "#         images = Variable(images)\n",
    "#         labels = Variable(labels)\n",
    "    output = model(train_data)\n",
    "    # step two: calculate your training loss\n",
    "    loss = criterion(output, train_label)\n",
    "    # step three: calculate backpropagation\n",
    "    loss.backward()\n",
    "    # step four: update parameters\n",
    "    optimizer.step()\n",
    "    # step five: reset our optimizer\n",
    "    optimizer.zero_grad()\n",
    "    # step six: store your training loss\n",
    "    trainingloss += loss.item(),\n",
    "    # step seven: evaluation your model by using testing data and get the accuracy\n",
    "    with torch.no_grad():\n",
    "        model.eval()\n",
    "        # predict testing data\n",
    "        test_output = model(test_data)\n",
    "        # calculate your testing loss\n",
    "        loss = criterion(test_output, test_label)\n",
    "        # store your testing loss\n",
    "        testingloss += loss.item(),\n",
    "        if epoch % 10 == 0:\n",
    "            # get labels with max values\n",
    "            # torch.max(test_output,1) 返回每一行中最大值的那个元素，且返回索引\n",
    "            pred_y = torch.max(test_output,1)[1]\n",
    "            # calculate the accuracy\n",
    "            acc = sum((pred_y==test_label).numpy())/test_label.size(0)\n",
    "            print('Epoch:', epoch, 'Test Accuracy:', acc)\n",
    "\n"
   ]
  },
  {
   "cell_type": "code",
   "execution_count": 134,
   "metadata": {},
   "outputs": [
    {
     "data": {
      "image/png": "[encoded data removed]",
      "text/plain": [
       "<Figure size 432x288 with 1 Axes>"
      ]
     },
     "metadata": {
      "needs_background": "light"
     },
     "output_type": "display_data"
    }
   ],
   "source": [
    "PlotLearningCurve(epoch, trainingloss, testingloss)"
   ]
  },
  {
   "cell_type": "code",
   "execution_count": 109,
   "metadata": {},
   "outputs": [
    {
     "data": {
      "text/plain": [
       "torch.Size([500])"
      ]
     },
     "execution_count": 109,
     "metadata": {},
     "output_type": "execute_result"
    }
   ],
   "source": [
    "xx[1].shape"
   ]
  },
  {
   "cell_type": "code",
   "execution_count": 122,
   "metadata": {},
   "outputs": [
    {
     "data": {
      "text/plain": [
       "0.958"
      ]
     },
     "execution_count": 122,
     "metadata": {},
     "output_type": "execute_result"
    }
   ],
   "source": [
    "sum((pred_y==test_label).numpy())/500"
   ]
  },
  {
   "cell_type": "code",
   "execution_count": 128,
   "metadata": {},
   "outputs": [
    {
     "data": {
      "text/plain": [
       "100"
      ]
     },
     "execution_count": 128,
     "metadata": {},
     "output_type": "execute_result"
    }
   ],
   "source": [
    "len(testingloss)"
   ]
  },
  {
   "cell_type": "code",
   "execution_count": 129,
   "metadata": {},
   "outputs": [
    {
     "data": {
      "text/plain": [
       "3200"
      ]
     },
     "execution_count": 129,
     "metadata": {},
     "output_type": "execute_result"
    }
   ],
   "source": [
    "len(trainingloss)"
   ]
  },
  {
   "cell_type": "code",
   "execution_count": 24,
   "metadata": {},
   "outputs": [
    {
     "data": {
      "text/plain": [
       "array([5, 0, 4, ..., 5, 2, 0])"
      ]
     },
     "execution_count": 24,
     "metadata": {},
     "output_type": "execute_result"
    }
   ],
   "source": [
    "train_data = data[:2000]\n",
    "np.array(train_data.iloc[:,0])"
   ]
  },
  {
   "cell_type": "code",
   "execution_count": 27,
   "metadata": {},
   "outputs": [
    {
     "data": {
      "text/plain": [
       "array([[0, 0, 0, ..., 0, 0, 0],\n",
       "       [0, 0, 0, ..., 0, 0, 0],\n",
       "       [0, 0, 0, ..., 0, 0, 0],\n",
       "       ...,\n",
       "       [0, 0, 0, ..., 0, 0, 0],\n",
       "       [0, 0, 0, ..., 0, 0, 0],\n",
       "       [0, 0, 0, ..., 0, 0, 0]])"
      ]
     },
     "execution_count": 27,
     "metadata": {},
     "output_type": "execute_result"
    }
   ],
   "source": [
    "np.array(train_data.iloc[:,1:])"
   ]
  },
  {
   "cell_type": "code",
   "execution_count": 2,
   "metadata": {},
   "outputs": [
    {
     "ename": "SyntaxError",
     "evalue": "invalid syntax (<ipython-input-2-8b3ee0c8c0f6>, line 3)",
     "output_type": "error",
     "traceback": [
      "\u001b[0;36m  File \u001b[0;32m\"<ipython-input-2-8b3ee0c8c0f6>\"\u001b[0;36m, line \u001b[0;32m3\u001b[0m\n\u001b[0;31m    >>> output = torch.full([10, 64], 0.999)  # A prediction (logit)\u001b[0m\n\u001b[0m     ^\u001b[0m\n\u001b[0;31mSyntaxError\u001b[0m\u001b[0;31m:\u001b[0m invalid syntax\n"
     ]
    }
   ],
   "source": [
    "import torch\n",
    "target = torch.ones([10, 1,64,64], dtype=torch.float32)  # 64 classes, batch size = 10\n",
    "output = torch.full([10, 64], 0.999)  # A prediction (logit)\n",
    ">pos_weight = torch.ones([64])  # All weights are equal to criterion = torch.nn.BCEWithLogitsLoss(pos_weight=pos_weight)\n",
    ">>> criterion(output, target)  # -log(sigmoid(0.999))"
   ]
  },
  {
   "cell_type": "code",
   "execution_count": null,
   "metadata": {},
   "outputs": [],
   "source": []
  }
 ],
 "metadata": {
  "kernelspec": {
   "display_name": "Python 3",
   "language": "python",
   "name": "python3"
  },
  "language_info": {
   "codemirror_mode": {
    "name": "ipython",
    "version": 3
   },
   "file_extension": ".py",
   "mimetype": "text/x-python",
   "name": "python",
   "nbconvert_exporter": "python",
   "pygments_lexer": "ipython3",
   "version": "3.6.9"
  }
 },
 "nbformat": 4,
 "nbformat_minor": 4
}

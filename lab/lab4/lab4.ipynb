{
 "cells": [
  {
   "cell_type": "code",
   "execution_count": 15,
   "metadata": {},
   "outputs": [],
   "source": [
    "from sklearn import metrics\n",
    "from sklearn.datasets import load_digits\n",
    "from sklearn.model_selection import train_test_split\n",
    "from sklearn.neighbors import KNeighborsClassifier\n",
    "from sklearn.linear_model import SGDClassifier\n",
    "from sklearn.tree import DecisionTreeClassifier\n",
    "from sklearn.preprocessing import StandardScaler\n",
    "from sklearn.model_selection import GridSearchCV\n",
    "import matplotlib.pyplot as plt\n",
    "import numpy as np"
   ]
  },
  {
   "cell_type": "code",
   "execution_count": 16,
   "metadata": {},
   "outputs": [
    {
     "data": {
      "text/plain": [
       "Text(0.5, 1.0, 'Label: 0\\n')"
      ]
     },
     "execution_count": 16,
     "metadata": {},
     "output_type": "execute_result"
    },
    {
     "data": {
      "image/png": "[encoded data removed]",
      "text/plain": [
       "<Figure size 432x288 with 1 Axes>"
      ]
     },
     "metadata": {
      "needs_background": "light"
     },
     "output_type": "display_data"
    }
   ],
   "source": [
    "digits=load_digits()\n",
    "plt.imshow(np.reshape(digits.data[0], (8, 8)), cmap='gray')\n",
    "plt.title('Label: %i\\n' % digits.target[0], fontsize=25)"
   ]
  },
  {
   "cell_type": "code",
   "execution_count": 17,
   "metadata": {},
   "outputs": [],
   "source": [
    "x_train, x_test, y_train, y_test = train_test_split(digits.data, digits.target, random_state=6)"
   ]
  },
  {
   "cell_type": "code",
   "execution_count": 18,
   "metadata": {},
   "outputs": [
    {
     "data": {
      "text/plain": [
       "array([ 0.,  0.,  3., 14.,  7.,  0.,  0.,  0.,  0.,  0., 14., 16., 14.,\n",
       "        9.,  0.,  0.,  0.,  4., 16., 16., 11., 15.,  3.,  0.,  0.,  5.,\n",
       "       15.,  6.,  0.,  4.,  8.,  0.,  0.,  8.,  8.,  0.,  0.,  4.,  8.,\n",
       "        0.,  0.,  5., 11.,  0.,  0.,  6.,  6.,  0.,  0.,  0., 13., 10.,\n",
       "        5., 15.,  5.,  0.,  0.,  0.,  2., 12., 14.,  8.,  0.,  0.])"
      ]
     },
     "execution_count": 18,
     "metadata": {},
     "output_type": "execute_result"
    }
   ],
   "source": [
    "x_train[0]"
   ]
  },
  {
   "cell_type": "code",
   "execution_count": null,
   "metadata": {},
   "outputs": [],
   "source": []
  },
  {
   "cell_type": "code",
   "execution_count": 19,
   "metadata": {},
   "outputs": [
    {
     "name": "stdout",
     "output_type": "stream",
     "text": [
      "y_predict:\n",
      " [1 9 6 0 8 5 7 8 4 2 7 6 2 6 0 7 4 3 1 3 7 2 2 2 0 6 2 6 5 0 0 2 7 3 5 6 6\n",
      " 7 6 5 7 6 2 8 2 7 4 7 6 6 6 1 6 6 6 4 1 2 0 2 7 3 4 0 4 4 5 4 1 9 5 0 4 1\n",
      " 0 0 5 8 3 0 0 2 8 0 3 1 4 0 8 2 9 5 1 1 5 8 4 5 4 6 0 4 9 1 1 4 7 1 6 7 5\n",
      " 4 5 0 5 4 3 6 4 0 1 4 5 5 3 1 2 1 1 0 7 5 1 4 9 6 3 4 9 8 7 4 4 6 6 2 3 9\n",
      " 3 7 3 5 3 8 5 1 2 1 1 8 8 2 6 9 0 5 3 3 5 7 7 1 4 8 3 0 4 7 6 5 0 1 2 7 9\n",
      " 9 4 2 2 8 5 3 2 9 0 4 8 2 3 4 4 0 5 7 0 2 3 9 2 1 8 5 7 8 7 3 0 2 9 7 7 7\n",
      " 0 0 2 4 2 4 8 7 0 6 2 0 2 2 9 2 5 7 5 6 0 5 6 5 3 0 9 6 2 5 2 4 3 7 4 1 9\n",
      " 2 3 3 1 9 8 9 3 3 5 2 4 1 8 2 5 9 6 0 7 4 4 8 2 0 4 8 5 3 7 3 0 5 7 2 1 6\n",
      " 5 8 1 3 1 0 8 3 6 4 6 4 1 5 0 9 7 7 4 8 3 8 3 6 3 7 6 4 5 1 9 1 5 9 0 1 1\n",
      " 7 0 5 3 0 6 8 8 6 0 4 2 9 2 5 9 1 6 4 2 1 2 4 3 8 1 6 8 6 2 8 7 0 1 7 5 0\n",
      " 8 3 4 3 2 3 3 0 7 4 0 6 2 5 3 8 1 3 5 0 0 4 5 7 8 9 9 6 5 5 0 4 2 0 6 8 8\n",
      " 7 0 5 5 5 2 0 9 5 6 1 4 2 8 9 9 7 5 9 2 7 7 6 1 6 6 1 3 4 5 4 2 5 3 7 8 0\n",
      " 3 5 7 4 8 0]\n",
      "直接对比真实值和预测值:\n",
      " [ True  True  True  True  True  True  True  True  True  True  True  True\n",
      "  True  True  True  True  True  True  True  True  True  True  True  True\n",
      "  True  True  True  True  True  True  True  True  True  True  True  True\n",
      "  True  True  True  True  True  True  True  True  True  True  True  True\n",
      "  True  True  True  True  True  True  True  True  True  True  True  True\n",
      " False  True  True  True  True False  True  True  True  True  True  True\n",
      "  True  True  True  True  True  True  True  True  True  True  True  True\n",
      " False  True  True  True  True  True  True False  True  True  True  True\n",
      "  True  True  True  True  True  True  True  True  True  True  True  True\n",
      "  True  True  True  True  True  True  True  True  True  True  True  True\n",
      "  True  True  True  True  True  True  True  True  True  True  True False\n",
      "  True  True  True  True False  True  True  True  True  True  True  True\n",
      "  True  True  True  True  True  True  True  True  True  True  True  True\n",
      "  True  True  True  True  True  True  True  True  True  True  True  True\n",
      "  True  True  True  True  True  True  True  True  True  True  True  True\n",
      "  True  True  True False  True  True  True  True  True  True  True  True\n",
      "  True  True  True  True  True  True  True  True  True  True  True  True\n",
      "  True  True  True  True  True  True  True  True  True  True  True  True\n",
      "  True  True  True  True  True  True  True  True  True  True  True  True\n",
      "  True  True  True  True  True  True  True  True  True  True  True  True\n",
      "  True  True  True  True  True  True  True  True  True  True  True  True\n",
      "  True  True  True  True  True  True  True  True  True  True  True  True\n",
      "  True  True  True  True  True  True  True  True  True  True  True  True\n",
      "  True  True  True  True  True  True  True  True False  True  True  True\n",
      "  True False  True  True  True  True  True  True  True  True  True  True\n",
      "  True  True  True  True  True  True  True  True  True  True  True  True\n",
      "  True  True  True  True  True  True  True  True  True  True  True  True\n",
      "  True  True  True  True  True  True  True  True  True  True  True  True\n",
      "  True  True  True  True  True  True  True  True  True  True  True  True\n",
      "  True  True  True  True  True  True  True  True  True  True  True  True\n",
      "  True  True  True  True  True  True  True  True  True  True  True  True\n",
      "  True  True  True  True  True  True  True  True  True  True  True  True\n",
      "  True  True  True  True  True  True  True  True  True  True  True  True\n",
      "  True  True  True  True  True  True  True  True  True  True  True  True\n",
      "  True  True  True  True  True  True  True  True  True  True  True  True\n",
      "  True  True  True  True  True  True  True  True  True  True  True  True\n",
      "  True  True  True  True  True  True  True  True  True  True  True  True\n",
      " False  True  True  True  True  True]\n",
      "accuracy sore:\n",
      " 0.9777777777777777\n",
      "最佳参数:\n",
      " {'n_neighbors': 5}\n",
      "最佳结果:\n",
      " 0.9717891610987379\n",
      "最佳估计器:\n",
      " KNeighborsClassifier(algorithm='auto', leaf_size=30, metric='minkowski',\n",
      "                     metric_params=None, n_jobs=None, n_neighbors=5, p=2,\n",
      "                     weights='uniform')\n",
      "交叉验证结果:\n",
      " {'mean_fit_time': array([0.00730059, 0.00831242, 0.00680792, 0.00645187, 0.00743332]), 'std_fit_time': array([0.0041033 , 0.00274742, 0.00181359, 0.00161485, 0.00193638]), 'mean_score_time': array([0.03474505, 0.05399365, 0.04232213, 0.03652112, 0.04187419]), 'std_score_time': array([0.0055143 , 0.03423961, 0.01363656, 0.00326191, 0.00727052]), 'param_n_neighbors': masked_array(data=[3, 5, 7, 9, 11],\n",
      "             mask=[False, False, False, False, False],\n",
      "       fill_value='?',\n",
      "            dtype=object), 'params': [{'n_neighbors': 3}, {'n_neighbors': 5}, {'n_neighbors': 7}, {'n_neighbors': 9}, {'n_neighbors': 11}], 'split0_test_score': array([0.97122302, 0.95683453, 0.95683453, 0.97122302, 0.96402878]), 'split1_test_score': array([0.98550725, 0.97826087, 0.97101449, 0.97101449, 0.97101449]), 'split2_test_score': array([0.97101449, 0.98550725, 0.98550725, 0.97101449, 0.97101449]), 'split3_test_score': array([0.96350365, 0.95620438, 0.95620438, 0.94890511, 0.96350365]), 'split4_test_score': array([0.96350365, 0.95620438, 0.95620438, 0.97080292, 0.96350365]), 'split5_test_score': array([0.99253731, 0.99253731, 0.99253731, 0.98507463, 0.98507463]), 'split6_test_score': array([0.97709924, 0.99236641, 0.99236641, 0.98473282, 0.98473282]), 'split7_test_score': array([0.96946565, 0.97709924, 0.97709924, 0.97709924, 0.97709924]), 'split8_test_score': array([0.96946565, 0.98473282, 0.96183206, 0.96183206, 0.96183206]), 'split9_test_score': array([0.9389313 , 0.9389313 , 0.92366412, 0.93129771, 0.93129771]), 'mean_test_score': array([0.97030438, 0.97178916, 0.96733482, 0.96733482, 0.96733482]), 'std_test_score': array([0.01351849, 0.01743827, 0.01983968, 0.01547141, 0.01435791]), 'rank_test_score': array([2, 1, 3, 3, 3], dtype=int32)}\n",
      "Recall:\n",
      " 0.9749951029362794\n"
     ]
    }
   ],
   "source": [
    "x_train, x_test, y_train, y_test = train_test_split(digits.data, digits.target, random_state=6)\n",
    "#3 特征工程 标准化\n",
    "transfer=StandardScaler()\n",
    "x_train=transfer.fit_transform(x_train)\n",
    "x_test=transfer.transform(x_test)\n",
    "#1 KNN算法预估器\n",
    "estimator=KNeighborsClassifier()\n",
    "#加入网格搜索与交叉验证\n",
    "#参数准备\n",
    "param_predict={\"n_neighbors\":[3,5,7,9,11]}\n",
    "estimator=GridSearchCV(estimator,param_grid=param_predict,cv=10)\n",
    "estimator.fit(x_train,y_train)\n",
    "# 模型评估\n",
    "#方法1 直接对比真实值和预测值\n",
    "y_predict=estimator.predict(x_test)\n",
    "print(\"y_predict:\\n\",y_predict)\n",
    "print(\"直接对比真实值和预测值:\\n\",y_test == y_predict)\n",
    "#方法2 计算准确率\n",
    "score=estimator.score(x_test,y_test)\n",
    "print(\"accuracy sore:\\n\",score)\n",
    "# 最佳参数：best_params_\n",
    "print(\"最佳参数:\\n\",estimator.best_params_)\n",
    "# 最佳结果：best_score_\n",
    "print(\"最佳结果:\\n\",estimator.best_score_)\n",
    "# 最佳估计器：best_estimator_\n",
    "print(\"最佳估计器:\\n\",estimator.best_estimator_)\n",
    "# 交叉验证结果：cv_results_\n",
    "print(\"交叉验证结果:\\n\",estimator.cv_results_)\n",
    "# recall score\n",
    "recall_score=metrics.recall_score(y_test, y_predict, average='macro')\n",
    "print(\"Recall:\\n\",recall_score)"
   ]
  },
  {
   "cell_type": "code",
   "execution_count": 20,
   "metadata": {},
   "outputs": [],
   "source": [
    "def KNN():\n",
    "    x_train, x_test, y_train, y_test = train_test_split(digits.data, digits.target, random_state=6)\n",
    "    #knn\n",
    "    #3 特征工程 标准化\n",
    "    transfer=StandardScaler()\n",
    "    x_train=transfer.fit_transform(x_train)\n",
    "    x_test=transfer.transform(x_test)\n",
    "    #1 KNN算法预估器\n",
    "    estimator=KNeighborsClassifier(n_neighbors=5)\n",
    "    estimator.fit(x_train,y_train)\n",
    "    y_predict=estimator.predict(x_test)\n",
    "    # 模型评估\n",
    "    # accuracy score\n",
    "    accuracy_score=metrics.accuracy_score(y_test, y_predict)\n",
    "    print(\"KNN Accuracy: %0.3f\"%accuracy_score,end='\\t')\n",
    "    # recall score\n",
    "    recall_score=metrics.recall_score(y_test, y_predict, average='macro')\n",
    "    print(\"Recall: %0.3f\"%recall_score)\n",
    "    # confusion matrix\n",
    "    confusion_matrix=metrics.confusion_matrix(y_test, y_predict)\n",
    "    return confusion_matrix"
   ]
  },
  {
   "cell_type": "code",
   "execution_count": 21,
   "metadata": {},
   "outputs": [],
   "source": [
    "def DT():\n",
    "    x_train, x_test, y_train, y_test = train_test_split(digits.data, digits.target, random_state=6)\n",
    "    #2 决策树预估器\n",
    "    estimator=DecisionTreeClassifier(criterion=\"entropy\")\n",
    "    estimator.fit(x_train,y_train)\n",
    "    y_predict=estimator.predict(x_test)\n",
    "    # 模型评估\n",
    "    # accuracy score\n",
    "    accuracy_score=metrics.accuracy_score(y_test, y_predict)\n",
    "    print(\"DT Accuracy: %0.3f\"%accuracy_score,end='\\t')\n",
    "    # recall score\n",
    "    recall_score=metrics.recall_score(y_test, y_predict, average='macro')\n",
    "    print(\"Recall: %0.3f\"%recall_score)"
   ]
  },
  {
   "cell_type": "code",
   "execution_count": 22,
   "metadata": {},
   "outputs": [],
   "source": [
    "def SGD():\n",
    "    x_train, x_test, y_train, y_test = train_test_split(digits.data, digits.target, random_state=6)\n",
    "    #3 SGD预估器\n",
    "    estimator=SGDClassifier()\n",
    "    estimator.fit(x_train,y_train)\n",
    "    y_predict=estimator.predict(x_test)\n",
    "    # 模型评估\n",
    "    # accuracy score\n",
    "    accuracy_score=metrics.accuracy_score(y_test, y_predict)\n",
    "    print(\"SGD Accuracy: %0.3f\"%accuracy_score,end='\\t')\n",
    "    # recall score\n",
    "    recall_score=metrics.recall_score(y_test, y_predict, average='macro')\n",
    "    print(\"Recall: %0.3f\"%recall_score)"
   ]
  },
  {
   "cell_type": "code",
   "execution_count": 23,
   "metadata": {},
   "outputs": [
    {
     "name": "stdout",
     "output_type": "stream",
     "text": [
      "COMP9517 Week 5 Lab - z5140893\n",
      "\n",
      "Test size = 0.25\n",
      "KNN Accuracy: 0.978\tRecall: 0.975\n",
      "SGD Accuracy: 0.960\tRecall: 0.956\n",
      "DT Accuracy: 0.853\tRecall: 0.848\n",
      "\n",
      "KNN Confusion Matrix:\n",
      "[[52  0  0  0  0  0  0  0  0  0]\n",
      " [ 0 42  0  0  0  0  0  0  0  0]\n",
      " [ 0  0 50  1  0  0  0  0  0  0]\n",
      " [ 0  0  0 40  0  0  0  0  0  0]\n",
      " [ 0  0  0  0 49  0  0  2  0  0]\n",
      " [ 0  0  0  0  0 51  0  0  0  0]\n",
      " [ 0  0  0  0  0  0 45  0  0  0]\n",
      " [ 0  0  0  0  1  0  0 43  0  0]\n",
      " [ 0  0  0  1  0  0  0  0 38  0]\n",
      " [ 0  0  0  2  1  2  0  0  0 30]]\n"
     ]
    }
   ],
   "source": [
    "print('COMP9517 Week 5 Lab - z5140893')\n",
    "print()\n",
    "test_size=x_test.shape[0]/(x_train.shape[0]+x_test.shape[0])\n",
    "print('Test size = %0.2f'%test_size)\n",
    "confusion_matrix=KNN()\n",
    "SGD()\n",
    "DT()\n",
    "print()\n",
    "print('KNN Confusion Matrix:')\n",
    "print(confusion_matrix)"
   ]
  },
  {
   "cell_type": "code",
   "execution_count": null,
   "metadata": {},
   "outputs": [],
   "source": []
  }
 ],
 "metadata": {
  "kernelspec": {
   "display_name": "Python 3",
   "language": "python",
   "name": "python3"
  },
  "language_info": {
   "codemirror_mode": {
    "name": "ipython",
    "version": 3
   },
   "file_extension": ".py",
   "mimetype": "text/x-python",
   "name": "python",
   "nbconvert_exporter": "python",
   "pygments_lexer": "ipython3",
   "version": "3.6.9"
  }
 },
 "nbformat": 4,
 "nbformat_minor": 2
}

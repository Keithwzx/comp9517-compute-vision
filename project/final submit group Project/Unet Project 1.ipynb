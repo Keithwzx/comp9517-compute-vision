{
  "nbformat": 4,
  "nbformat_minor": 0,
  "metadata": {
    "kernelspec": {
      "name": "python3",
      "display_name": "Python 3"
    },
    "language_info": {
      "codemirror_mode": {
        "name": "ipython",
        "version": 3
      },
      "file_extension": ".py",
      "mimetype": "text/x-python",
      "name": "python",
      "nbconvert_exporter": "python",
      "pygments_lexer": "ipython3",
      "version": "3.6.9"
    },
    "colab": {
      "name": "HM.ipynb",
      "provenance": [],
      "collapsed_sections": [],
      "machine_shape": "hm"
    },
    "accelerator": "GPU"
  },
  "cells": [
    {
      "cell_type": "code",
      "metadata": {
        "id": "sWWhLiuVV8AV",
        "colab_type": "code",
        "colab": {}
      },
      "source": [
        "import numpy as np\n",
        "import cv2\n",
        "import matplotlib.pyplot as plt\n",
        "\n",
        "import torch\n",
        "from torch.nn import functional as F\n",
        "from torch import nn, optim\n",
        "import torchvision\n",
        "from torch.utils.data import Dataset, TensorDataset\n",
        "from PIL import Image\n",
        "from torchsummary import summary\n",
        "import torchvision.models as models\n",
        "\n",
        "# device = torch.device(\"cuda:0\" if torch.cuda.is_available() else \"cpu\")"
      ],
      "execution_count": 0,
      "outputs": []
    },
    {
      "cell_type": "code",
      "metadata": {
        "id": "isvDF0hw16Uy",
        "colab_type": "code",
        "colab": {}
      },
      "source": [
        "def PlotLearningCurve(epoch, trainingloss, testingloss=None):\n",
        "    plt.plot(trainingloss, label='training loss')\n",
        "    # plt.plot(testingloss, label='testing loss')\n",
        "    plt.legend(loc='best')\n",
        "    plt.xlabel('epoch')\n",
        "    plt.ylabel('loss')\n",
        "    plt.xlim()\n",
        "    plt.ylim()\n",
        "    plt.show()"
      ],
      "execution_count": 0,
      "outputs": []
    },
    {
      "cell_type": "code",
      "metadata": {
        "id": "7KPRV_fGWQ3n",
        "colab_type": "code",
        "outputId": "a5ae6f91-8fc3-49a6-9362-bd7f9b89678a",
        "colab": {
          "base_uri": "https://localhost:8080/",
          "height": 122
        }
      },
      "source": [
        "from google.colab import drive\n",
        "drive.mount('/content/drive')"
      ],
      "execution_count": 0,
      "outputs": [
        {
          "output_type": "stream",
          "text": [
            "Go to this URL in a browser: https://accounts.google.com/o/oauth2/auth?client_id=947318989803-6bn6qk8qdgf4n4g3pfee6491hc0brc4i.apps.googleusercontent.com&redirect_uri=urn%3Aietf%3Awg%3Aoauth%3A2.0%3Aoob&scope=email%20https%3A%2F%2Fwww.googleapis.com%2Fauth%2Fdocs.test%20https%3A%2F%2Fwww.googleapis.com%2Fauth%2Fdrive%20https%3A%2F%2Fwww.googleapis.com%2Fauth%2Fdrive.photos.readonly%20https%3A%2F%2Fwww.googleapis.com%2Fauth%2Fpeopleapi.readonly&response_type=code\n",
            "\n",
            "Enter your authorization code:\n",
            "··········\n",
            "Mounted at /content/drive\n"
          ],
          "name": "stdout"
        }
      ]
    },
    {
      "cell_type": "code",
      "metadata": {
        "id": "onHDN8-yV8Bk",
        "colab_type": "code",
        "outputId": "4b640652-ddb1-45ae-8bb4-6b41c0dab866",
        "colab": {
          "base_uri": "https://localhost:8080/",
          "height": 85
        }
      },
      "source": [
        "!ls drive/My\\ Drive/Colab\\ Notebooks/"
      ],
      "execution_count": 0,
      "outputs": [
        {
          "output_type": "stream",
          "text": [
            "HM.ipynb       params160.pkl  params30.pkl  result_160\n",
            "params10.pkl   params170.pkl  params40.pkl  Test1\n",
            "params140.pkl  params180.pkl  params50.pkl  Train1\n",
            "params150.pkl  params20.pkl   result\t    Untitled0.ipynb\n"
          ],
          "name": "stdout"
        }
      ]
    },
    {
      "cell_type": "code",
      "metadata": {
        "id": "Cdzetldsc1GU",
        "colab_type": "code",
        "colab": {}
      },
      "source": [
        "import os\n",
        "os.chdir('drive/My Drive/Colab Notebooks/')"
      ],
      "execution_count": 0,
      "outputs": []
    },
    {
      "cell_type": "code",
      "metadata": {
        "id": "4Awq9ifFdMgl",
        "colab_type": "code",
        "outputId": "3d95f10e-48d6-4db8-9570-cfcdb16174df",
        "colab": {
          "base_uri": "https://localhost:8080/",
          "height": 85
        }
      },
      "source": [
        "!ls"
      ],
      "execution_count": 0,
      "outputs": [
        {
          "output_type": "stream",
          "text": [
            "HM.ipynb       params160.pkl  params30.pkl  result_160\n",
            "params10.pkl   params170.pkl  params40.pkl  Test1\n",
            "params140.pkl  params180.pkl  params50.pkl  Train1\n",
            "params150.pkl  params20.pkl   result\t    Untitled0.ipynb\n"
          ],
          "name": "stdout"
        }
      ]
    },
    {
      "cell_type": "code",
      "metadata": {
        "id": "B__7-cd2V8B0",
        "colab_type": "code",
        "colab": {}
      },
      "source": [
        "import os\n",
        "def get_data(data_name, flag):\n",
        "    if flag == 'train':\n",
        "        label_path = \"Train1/\" + data_name + '/' #dir root\n",
        "        data_path = 'Train1/original_retinal_images_pre/'\n",
        "    else:\n",
        "        label_path = \"Test1/\" + data_name + '/' #dir root\n",
        "        data_path = 'Test1/original_retinal_images_pre/'\n",
        "    # get data\n",
        "    datas = []\n",
        "    labels = []\n",
        "    files= sorted(os.listdir(label_path)) #get all img name\n",
        "    for file_name in files: #遍历文件夹\n",
        "#         print(file_name)\n",
        "        if not os.path.isdir(file_name) and file_name[0]!='.': #判断是否是文件夹，不是文件夹才打开\n",
        "            label = cv2.imread(label_path + file_name, 0)\n",
        "            data = cv2.imread(data_path + file_name[:-7] + '.jpg')\n",
        "            datas.append(data)\n",
        "            labels.append(label)\n",
        "    datas = np.array(datas)\n",
        "    labels = np.array(labels)\n",
        "#     print(labels.shape)\n",
        "#     TensorDataset = torch.utils.data.TensorDataset(torch.tensor(labels), torch.tensor(datas))\n",
        "    return datas, labels\n",
        "            \n",
        "#     # Each image is divided 255 to bound values onto [0,1].\n",
        "#     img_nor = img_640/255\n",
        "#     # In case of HE and MA, each image is divided by 255 and then subtracted with the mean.\n",
        "#     img_res = img_nor - np.mean(img_nor)"
      ],
      "execution_count": 0,
      "outputs": []
    },
    {
      "cell_type": "code",
      "metadata": {
        "id": "wfiO-7gYV8B7",
        "colab_type": "code",
        "colab": {}
      },
      "source": [
        "datas,labels = get_data(\"masks_Haemorrhages_pre\",'train')\n",
        "datas_nor = torch.tensor(datas/255)\n",
        "labels_nor = torch.tensor(labels)\n",
        "datas_nor = datas_nor.permute(0,3,1,2)\n",
        "labels_nor = labels_nor.view(labels.shape[0],1,640,640)\n",
        "# datas_nor.shape, labels_nor.shape\n",
        "train_data = torch.utils.data.TensorDataset(datas_nor.type('torch.DoubleTensor'), labels_nor.type('torch.DoubleTensor'))\n",
        "train_loader =  torch.utils.data.DataLoader(train_data, batch_size=2, shuffle=False)"
      ],
      "execution_count": 0,
      "outputs": []
    },
    {
      "cell_type": "code",
      "metadata": {
        "id": "oUkXScCGV8B-",
        "colab_type": "code",
        "colab": {}
      },
      "source": [
        "datas,labels = get_data(\"masks_Haemorrhages_pre\",'test')\n",
        "datas_nor = torch.tensor(datas/255)\n",
        "labels_nor = torch.tensor(labels)\n",
        "datas_nor = datas_nor.permute(0,3,1,2)\n",
        "labels_nor = labels_nor.view(labels.shape[0],1,640,640)\n",
        "# datas_nor.shape, labels_nor.shape\n",
        "test_data = torch.utils.data.TensorDataset(datas_nor.type('torch.DoubleTensor'), labels_nor.type('torch.DoubleTensor'))\n",
        "test_loader =  torch.utils.data.DataLoader(test_data, batch_size=2, shuffle=False)"
      ],
      "execution_count": 0,
      "outputs": []
    },
    {
      "cell_type": "code",
      "metadata": {
        "id": "lXiC_jBlV8CB",
        "colab_type": "code",
        "colab": {}
      },
      "source": [
        "class DoubleConv(nn.Module):\n",
        "    def __init__(self, in_ch, out_ch):\n",
        "        super(DoubleConv, self).__init__()\n",
        "        self.conv = nn.Sequential(\n",
        "            nn.Conv2d(in_ch, out_ch, 3, 1, 1),\n",
        "            nn.BatchNorm2d(out_ch), #添加了BN层\n",
        "            nn.ReLU(),\n",
        "            nn.Conv2d(out_ch, out_ch, 3, 1, 1),\n",
        "            nn.BatchNorm2d(out_ch),\n",
        "            nn.ReLU()\n",
        "        )\n",
        "\n",
        "    def forward(self, x):\n",
        "        return self.conv(x)\n",
        "\n",
        "class OneConv(nn.Module):\n",
        "    def __init__(self, in_ch, out_ch):\n",
        "        super(OneConv, self).__init__()\n",
        "        self.conv = nn.Sequential(\n",
        "            nn.Conv2d(in_ch, out_ch, 3, 1, 1),\n",
        "            nn.BatchNorm2d(out_ch), #添加了BN层\n",
        "            nn.ReLU(),\n",
        "        )\n",
        "\n",
        "    def forward(self, x):\n",
        "        return self.conv(x)\n",
        "\n",
        "class Unet(nn.Module):\n",
        "    def __init__(self):\n",
        "        super(Unet, self).__init__()\n",
        "        self.conv1 = DoubleConv(3, 32)\n",
        "        self.pool1 = nn.MaxPool2d(2)\n",
        "        self.conv2 = DoubleConv(32, 64)\n",
        "        self.pool2 = nn.MaxPool2d(2)\n",
        "        self.conv3 = DoubleConv(64, 128)\n",
        "        self.pool3 = nn.MaxPool2d(2)\n",
        "        self.conv4 = DoubleConv(128, 256)\n",
        "        self.pool4 = nn.MaxPool2d(2)\n",
        "        self.conv5 = DoubleConv(256, 512)\n",
        "        self.pool5 = nn.MaxPool2d(2)\n",
        "        self.conv6 = DoubleConv(512, 512)\n",
        "        self.pool6 = nn.MaxPool2d(2)\n",
        "        self.conv7 = DoubleConv(512, 512)\n",
        "        # 逆卷积，也可以使用上采样\n",
        "        self.up1 = nn.Upsample(20)\n",
        "        self.conv8 = OneConv(512, 512)\n",
        "        self.conv9 = DoubleConv(1024, 512)\n",
        "        self.up2 = nn.Upsample(40)\n",
        "        self.conv10 = OneConv(512, 512)\n",
        "        self.conv11 = DoubleConv(1024, 512)\n",
        "        self.up3 = nn.Upsample(80)\n",
        "        self.conv12 = OneConv(512, 256)\n",
        "        self.conv13 = DoubleConv(512, 256)\n",
        "        self.up4 = nn.Upsample(160)\n",
        "        self.conv14 = OneConv(256, 128)\n",
        "        self.conv15 = DoubleConv(256, 128)\n",
        "        self.up5 = nn.Upsample(320)\n",
        "        self.conv16 = OneConv(128, 64)\n",
        "        self.conv17 = DoubleConv(128, 64)\n",
        "        self.up6 = nn.Upsample(640)\n",
        "        self.conv18 = OneConv(64, 32)\n",
        "        self.conv19 = DoubleConv(64, 32)\n",
        "        self.conv20 = nn.Sequential(\n",
        "            nn.Conv2d(32, 1, 1, 1, 0),\n",
        "            nn.Sigmoid()\n",
        "        )\n",
        "        \n",
        "    def forward(self, x):\n",
        "        c1 = self.conv1(x)\n",
        "        p1 = self.pool1(c1)\n",
        "        c2 = self.conv2(p1)\n",
        "        p2 = self.pool2(c2)\n",
        "        c3 = self.conv3(p2)\n",
        "        p3 = self.pool3(c3)\n",
        "        c4 = self.conv4(p3)\n",
        "        p4 = self.pool4(c4)\n",
        "        c5 = self.conv5(p4)\n",
        "        p5 = self.pool5(c5)\n",
        "        c6 = self.conv6(p5)\n",
        "        p6 = self.pool6(c6)\n",
        "        c7 = self.conv7(p6)\n",
        "        u1 = self.up1(c7)\n",
        "        c8 = self.conv8(u1)\n",
        "        concat1 = torch.cat([c8, c6], dim=1)\n",
        "        c9 = self.conv9(concat1)\n",
        "        u2 = self.up2(c9)\n",
        "        c10 = self.conv10(u2)\n",
        "        concat2 = torch.cat([c10, c5], dim=1)\n",
        "        c11 = self.conv11(concat2)\n",
        "        u3 = self.up3(c11)\n",
        "        c12 = self.conv12(u3)\n",
        "        concat3 = torch.cat([c12, c4], dim=1)\n",
        "        c13 = self.conv13(concat3)\n",
        "        u4 = self.up4(c13)\n",
        "        c14 = self.conv14(u4)\n",
        "        concat4 = torch.cat([c14, c3], dim=1)\n",
        "        c15 = self.conv15(concat4)\n",
        "        u5 = self.up5(c15)\n",
        "        c16 = self.conv16(u5)\n",
        "        concat5 = torch.cat([c16, c2], dim=1)\n",
        "        c17 = self.conv17(concat5)\n",
        "        u6 = self.up6(c17)\n",
        "        c18 = self.conv18(u6)\n",
        "        concat6 = torch.cat([c18, c1], dim=1)\n",
        "        c19 = self.conv19(concat6)\n",
        "        out = self.conv20(c19)\n",
        "        return out"
      ],
      "execution_count": 0,
      "outputs": []
    },
    {
      "cell_type": "code",
      "metadata": {
        "id": "qixYFP-pV8CF",
        "colab_type": "code",
        "colab": {}
      },
      "source": [
        "class NNModel:\n",
        "    def __init__(self, network, learning_rate, train_loader, test_loader):\n",
        "        self.trainloader = train_loader\n",
        "        self.testloader = test_loader\n",
        "        self.model = network\n",
        "        self.lossfn = nn.BCEWithLogitsLoss(reduction='mean')\n",
        "        self.optimizer = optim.Adam(self.model.parameters(), lr=learning_rate, betas=(0.5,0.999))\n",
        "        self.num_train_samples = len(self.trainloader)\n",
        "        self.num_test_samples = len(self.testloader)\n",
        "        self.trainingloss = []\n",
        "\n",
        "    def train_epoch(self):\n",
        "        self.model.train()\n",
        "        loss_=0\n",
        "        epoch_size = 0\n",
        "        for images, labels in self.trainloader:\n",
        "          self.optimizer.zero_grad()\n",
        "          images=images.cuda()\n",
        "          labels=labels.cuda()\n",
        "          log_ps = self.model(images)\n",
        "          epoch_size += images.size(0)\n",
        "          # weight1 = ((labels[0]==0).sum()/(labels[0]!=0).sum()/8).type('torch.DoubleTensor')\n",
        "          # weight2 = ((labels[1]==0).sum()/(labels[1]!=0).sum()/8).type('torch.DoubleTensor')\n",
        "          # list_weight = [weight1,weight2]\n",
        "          # self.lossfn.weight = torch.tensor(list_weight).cuda()\n",
        "          # self.lossfn.weight = ((labels==0).sum()/(labels!=0).sum()/8).type('torch.DoubleTensor').cuda()\n",
        "          # print(self.lossfn.weight, self.lossfn.weight.shape)\n",
        "          # print(log_ps.shape, labels.shape)\n",
        "          loss = self.lossfn(log_ps, labels)\n",
        "          loss.backward()\n",
        "          self.optimizer.step()\n",
        "          loss_+=loss.item()\n",
        "          # self.trainingloss.append(loss.item())\n",
        "        loss_ /= epoch_size\n",
        "        return loss_\n",
        "\n",
        "    \n",
        "    def eval(self):\n",
        "        self.model.eval()\n",
        "        num = 0\n",
        "        with torch.no_grad():\n",
        "          for images, labels in self.testloader:\n",
        "            images = images.cuda()\n",
        "            labels = labels.cuda()\n",
        "            result = self.model(images)\n",
        "            print(result.shape, torch.max(result))\n",
        "            for i in range(result.shape[0]):\n",
        "              b = result[i].squeeze().view(640,640,1)\n",
        "              print(b.shape, torch.max(b), type(b))\n",
        "              b=b/torch.max(b)*255\n",
        "              result_img=torchvision.transforms.ToPILImage()(np.uint8(b.cpu()))\n",
        "              result_img.save('result/' + str(num) + '.jpg')\n",
        "              num+=1\n",
        "\n"
      ],
      "execution_count": 0,
      "outputs": []
    },
    {
      "cell_type": "code",
      "metadata": {
        "id": "ti0bZlC0-Vme",
        "colab_type": "code",
        "outputId": "d0414bb7-4e4a-4383-e4e1-a50ce6a8e068",
        "colab": {
          "base_uri": "https://localhost:8080/",
          "height": 1000
        }
      },
      "source": [
        "import time\n",
        "start = time.time()\n",
        "# Define your learning rate\n",
        "learning_rate = 2e-4\n",
        "# train\n",
        "m = NNModel(Unet().double().cuda(), learning_rate, train_loader, test_loader)\n",
        "m.model.load_state_dict(torch.load('params80.pkl'))\n",
        "epochs = 150\n",
        "loss_c = []\n",
        "\n",
        "for e in range(81,epochs+1):\n",
        "    loss_c.append(m.train_epoch())\n",
        "    if e%10==0:\n",
        "      torch.save(m.model.state_dict(), 'params' + str(e) + '.pkl')\n",
        "    print(e)\n",
        "print(time.time()-start)"
      ],
      "execution_count": 0,
      "outputs": [
        {
          "output_type": "stream",
          "text": [
            "81\n",
            "82\n",
            "83\n",
            "84\n",
            "85\n",
            "86\n",
            "87\n",
            "88\n",
            "89\n",
            "90\n",
            "91\n",
            "92\n",
            "93\n",
            "94\n",
            "95\n",
            "96\n",
            "97\n",
            "98\n",
            "99\n",
            "100\n",
            "101\n",
            "102\n",
            "103\n",
            "104\n",
            "105\n",
            "106\n",
            "107\n",
            "108\n",
            "109\n",
            "110\n",
            "111\n",
            "112\n",
            "113\n",
            "114\n",
            "115\n",
            "116\n",
            "117\n",
            "118\n",
            "119\n",
            "120\n",
            "121\n",
            "122\n",
            "123\n",
            "124\n",
            "125\n",
            "126\n",
            "127\n",
            "128\n",
            "129\n",
            "130\n",
            "131\n",
            "132\n",
            "133\n",
            "134\n",
            "135\n",
            "136\n",
            "137\n",
            "138\n",
            "139\n",
            "140\n",
            "141\n",
            "142\n",
            "143\n",
            "144\n",
            "145\n",
            "146\n",
            "147\n",
            "148\n",
            "149\n",
            "150\n",
            "5594.841672182083\n"
          ],
          "name": "stdout"
        }
      ]
    },
    {
      "cell_type": "code",
      "metadata": {
        "id": "Yla6K0FrjBGE",
        "colab_type": "code",
        "outputId": "31cb48d7-b6b0-443c-8493-2a534451eaef",
        "colab": {
          "base_uri": "https://localhost:8080/",
          "height": 296
        }
      },
      "source": [
        "PlotLearningCurve(epochs, loss_c)\n",
        "end = time.time()\n",
        "print(end-start)"
      ],
      "execution_count": 0,
      "outputs": [
        {
          "output_type": "display_data",
          "data": {
            "image/png": "[encoded data removed]",
            "text/plain": [
              "<Figure size 432x288 with 1 Axes>"
            ]
          },
          "metadata": {
            "tags": []
          }
        },
        {
          "output_type": "stream",
          "text": [
            "6441.729838371277\n"
          ],
          "name": "stdout"
        }
      ]
    },
    {
      "cell_type": "code",
      "metadata": {
        "id": "B0k2pwHNV8C4",
        "colab_type": "code",
        "outputId": "63998041-c927-4fad-d0a9-6c8be8bc219b",
        "colab": {
          "base_uri": "https://localhost:8080/",
          "height": 578
        }
      },
      "source": [
        "learning_rate = 2e-5\n",
        "mm = NNModel(Unet().double().cuda(), learning_rate, train_loader, test_loader)\n",
        "mm.model.load_state_dict(torch.load('params150.pkl'))\n",
        "\n",
        "mm.eval()\n",
        "end = time.time()\n",
        "print(end-start)"
      ],
      "execution_count": 0,
      "outputs": [
        {
          "output_type": "stream",
          "text": [
            "torch.Size([2, 1, 640, 640]) tensor(1.0000, device='cuda:0', dtype=torch.float64)\n",
            "torch.Size([640, 640, 1]) tensor(1.0000, device='cuda:0', dtype=torch.float64) <class 'torch.Tensor'>\n",
            "torch.Size([640, 640, 1]) tensor(1.0000, device='cuda:0', dtype=torch.float64) <class 'torch.Tensor'>\n",
            "torch.Size([2, 1, 640, 640]) tensor(1.0000, device='cuda:0', dtype=torch.float64)\n",
            "torch.Size([640, 640, 1]) tensor(1.0000, device='cuda:0', dtype=torch.float64) <class 'torch.Tensor'>\n",
            "torch.Size([640, 640, 1]) tensor(1.0000, device='cuda:0', dtype=torch.float64) <class 'torch.Tensor'>\n",
            "torch.Size([2, 1, 640, 640]) tensor(1.0000, device='cuda:0', dtype=torch.float64)\n",
            "torch.Size([640, 640, 1]) tensor(1.0000, device='cuda:0', dtype=torch.float64) <class 'torch.Tensor'>\n",
            "torch.Size([640, 640, 1]) tensor(1.0000, device='cuda:0', dtype=torch.float64) <class 'torch.Tensor'>\n",
            "torch.Size([2, 1, 640, 640]) tensor(1.0000, device='cuda:0', dtype=torch.float64)\n",
            "torch.Size([640, 640, 1]) tensor(1.0000, device='cuda:0', dtype=torch.float64) <class 'torch.Tensor'>\n",
            "torch.Size([640, 640, 1]) tensor(1.0000, device='cuda:0', dtype=torch.float64) <class 'torch.Tensor'>\n",
            "torch.Size([2, 1, 640, 640]) tensor(1.0000, device='cuda:0', dtype=torch.float64)\n",
            "torch.Size([640, 640, 1]) tensor(1.0000, device='cuda:0', dtype=torch.float64) <class 'torch.Tensor'>\n",
            "torch.Size([640, 640, 1]) tensor(1.0000, device='cuda:0', dtype=torch.float64) <class 'torch.Tensor'>\n",
            "torch.Size([2, 1, 640, 640]) tensor(1.0000, device='cuda:0', dtype=torch.float64)\n",
            "torch.Size([640, 640, 1]) tensor(1.0000, device='cuda:0', dtype=torch.float64) <class 'torch.Tensor'>\n",
            "torch.Size([640, 640, 1]) tensor(1.0000, device='cuda:0', dtype=torch.float64) <class 'torch.Tensor'>\n",
            "torch.Size([2, 1, 640, 640]) tensor(1.0000, device='cuda:0', dtype=torch.float64)\n",
            "torch.Size([640, 640, 1]) tensor(1.0000, device='cuda:0', dtype=torch.float64) <class 'torch.Tensor'>\n",
            "torch.Size([640, 640, 1]) tensor(1.0000, device='cuda:0', dtype=torch.float64) <class 'torch.Tensor'>\n",
            "torch.Size([2, 1, 640, 640]) tensor(1.0000, device='cuda:0', dtype=torch.float64)\n",
            "torch.Size([640, 640, 1]) tensor(1.0000, device='cuda:0', dtype=torch.float64) <class 'torch.Tensor'>\n",
            "torch.Size([640, 640, 1]) tensor(1.0000, device='cuda:0', dtype=torch.float64) <class 'torch.Tensor'>\n",
            "torch.Size([2, 1, 640, 640]) tensor(1.0000, device='cuda:0', dtype=torch.float64)\n",
            "torch.Size([640, 640, 1]) tensor(1.0000, device='cuda:0', dtype=torch.float64) <class 'torch.Tensor'>\n",
            "torch.Size([640, 640, 1]) tensor(1.0000, device='cuda:0', dtype=torch.float64) <class 'torch.Tensor'>\n",
            "torch.Size([2, 1, 640, 640]) tensor(1.0000, device='cuda:0', dtype=torch.float64)\n",
            "torch.Size([640, 640, 1]) tensor(1.0000, device='cuda:0', dtype=torch.float64) <class 'torch.Tensor'>\n",
            "torch.Size([640, 640, 1]) tensor(1.0000, device='cuda:0', dtype=torch.float64) <class 'torch.Tensor'>\n",
            "torch.Size([1, 1, 640, 640]) tensor(1.0000, device='cuda:0', dtype=torch.float64)\n",
            "torch.Size([640, 640, 1]) tensor(1.0000, device='cuda:0', dtype=torch.float64) <class 'torch.Tensor'>\n",
            "6477.659224510193\n"
          ],
          "name": "stdout"
        }
      ]
    },
    {
      "cell_type": "code",
      "metadata": {
        "id": "mv9P7qjwvwEG",
        "colab_type": "code",
        "outputId": "9e68b0dc-0957-4c15-fcd5-dd2460684f3a",
        "colab": {
          "base_uri": "https://localhost:8080/"
        }
      },
      "source": [
        "x=Unet().cuda()\n",
        "summary(x,input_size=(3,640,640), device='cuda')"
      ],
      "execution_count": 0,
      "outputs": [
        {
          "output_type": "error",
          "ename": "NameError",
          "evalue": "ignored",
          "traceback": [
            "\u001b[0;31m---------------------------------------------------------------------------\u001b[0m",
            "\u001b[0;31mNameError\u001b[0m                                 Traceback (most recent call last)",
            "\u001b[0;32m<ipython-input-1-4ebe159fb70d>\u001b[0m in \u001b[0;36m<module>\u001b[0;34m()\u001b[0m\n\u001b[0;32m----> 1\u001b[0;31m \u001b[0mx\u001b[0m\u001b[0;34m=\u001b[0m\u001b[0mUnet\u001b[0m\u001b[0;34m(\u001b[0m\u001b[0;34m)\u001b[0m\u001b[0;34m.\u001b[0m\u001b[0mcuda\u001b[0m\u001b[0;34m(\u001b[0m\u001b[0;34m)\u001b[0m\u001b[0;34m\u001b[0m\u001b[0;34m\u001b[0m\u001b[0m\n\u001b[0m\u001b[1;32m      2\u001b[0m \u001b[0msummary\u001b[0m\u001b[0;34m(\u001b[0m\u001b[0mx\u001b[0m\u001b[0;34m,\u001b[0m\u001b[0minput_size\u001b[0m\u001b[0;34m=\u001b[0m\u001b[0;34m(\u001b[0m\u001b[0;36m3\u001b[0m\u001b[0;34m,\u001b[0m\u001b[0;36m640\u001b[0m\u001b[0;34m,\u001b[0m\u001b[0;36m640\u001b[0m\u001b[0;34m)\u001b[0m\u001b[0;34m,\u001b[0m \u001b[0mdevice\u001b[0m\u001b[0;34m=\u001b[0m\u001b[0;34m'cuda'\u001b[0m\u001b[0;34m)\u001b[0m\u001b[0;34m\u001b[0m\u001b[0;34m\u001b[0m\u001b[0m\n",
            "\u001b[0;31mNameError\u001b[0m: name 'Unet' is not defined"
          ]
        }
      ]
    },
    {
      "cell_type": "code",
      "metadata": {
        "id": "Rb923RzGyqdR",
        "colab_type": "code",
        "colab": {}
      },
      "source": [
        "# import torch\n",
        "# target = torch.ones([10,1, 64,64], dtype=torch.float32)  # 64 classes, batch size = 10\n",
        "# output = torch.full([10, 1,64, 64], 0.999)  # A prediction (logit)\n",
        "# pos_weight = torch.tensor([64])  # All weights are equal to 1\n",
        "# criterion = torch.nn.BCEWithLogitsLoss(weight=pos_weight)\n",
        "# criterion(output, target)  # -log(sigmoid(0.999))"
      ],
      "execution_count": 0,
      "outputs": []
    },
    {
      "cell_type": "code",
      "metadata": {
        "id": "bwoP-8chXPn4",
        "colab_type": "code",
        "colab": {}
      },
      "source": [
        ""
      ],
      "execution_count": 0,
      "outputs": []
    }
  ]
}
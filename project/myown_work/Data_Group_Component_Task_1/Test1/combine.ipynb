{
 "cells": [
  {
   "cell_type": "code",
   "execution_count": 2,
   "metadata": {},
   "outputs": [],
   "source": [
    "import os\n",
    "import cv2\n",
    "import numpy as np\n",
    "from matplotlib import pyplot as plt\n",
    "\n",
    "def get_data(result, label_path):\n",
    "    result_path = 'result_' + result\n",
    "    label_path = label_path\n",
    "    \n",
    "    print(os.listdir(result_path))\n",
    "    files_label = sorted(os.listdir(label_path)) #得到文件夹下的所有文件名称\n",
    "    files_result = [i for i in os.listdir(result_path) if i[0]!='.']\n",
    "    files_result = sorted(files_result, key = lambda x:int(x[:-4]))\n",
    "    \n",
    "    print('a')\n",
    "    for i in range(len(files_label)): #遍历文件夹\n",
    "        print(i)\n",
    "#         print(file_name)\n",
    "#         if not os.path.isdir(file_name) and file_name[0]!='.': #判断是否是文件夹，不是文件夹才打开\n",
    "        label = cv2.imread(label_path + '/' + files_label[i], 0)\n",
    "        data = cv2.imread(result_path + '/' + files_result[i],0)\n",
    "        print(files_label[i], files_result[i])\n",
    "        ap = np.hstack((data, label))\n",
    "        cv2.imwrite('c_'+result+'/'+files_label[i], ap)"
   ]
  },
  {
   "cell_type": "code",
   "execution_count": 3,
   "metadata": {},
   "outputs": [
    {
     "name": "stdout",
     "output_type": "stream",
     "text": [
      "['.DS_Store', '8.jpg', '9.jpg', '14.jpg', '15.jpg', '17.jpg', '16.jpg', '12.jpg', '13.jpg', '11.jpg', '10.jpg', '21.jpg', '20.jpg', '22.jpg', '23.jpg', '26.jpg', '18.jpg', '24.jpg', '25.jpg', '19.jpg', '4.jpg', '5.jpg', '7.jpg', '6.jpg', '2.jpg', '3.jpg', '1.jpg', '0.jpg']\n",
      "a\n",
      "0\n",
      "IDRiD_55_MA.tif 0.jpg\n",
      "1\n",
      "IDRiD_56_MA.tif 1.jpg\n",
      "2\n",
      "IDRiD_57_MA.tif 2.jpg\n",
      "3\n",
      "IDRiD_58_MA.tif 3.jpg\n",
      "4\n",
      "IDRiD_59_MA.tif 4.jpg\n",
      "5\n",
      "IDRiD_60_MA.tif 5.jpg\n",
      "6\n",
      "IDRiD_61_MA.tif 6.jpg\n",
      "7\n",
      "IDRiD_62_MA.tif 7.jpg\n",
      "8\n",
      "IDRiD_63_MA.tif 8.jpg\n",
      "9\n",
      "IDRiD_64_MA.tif 9.jpg\n",
      "10\n",
      "IDRiD_65_MA.tif 10.jpg\n",
      "11\n",
      "IDRiD_66_MA.tif 11.jpg\n",
      "12\n",
      "IDRiD_67_MA.tif 12.jpg\n",
      "13\n",
      "IDRiD_68_MA.tif 13.jpg\n",
      "14\n",
      "IDRiD_69_MA.tif 14.jpg\n",
      "15\n",
      "IDRiD_70_MA.tif 15.jpg\n",
      "16\n",
      "IDRiD_71_MA.tif 16.jpg\n",
      "17\n",
      "IDRiD_72_MA.tif 17.jpg\n",
      "18\n",
      "IDRiD_73_MA.tif 18.jpg\n",
      "19\n",
      "IDRiD_74_MA.tif 19.jpg\n",
      "20\n",
      "IDRiD_75_MA.tif 20.jpg\n",
      "21\n",
      "IDRiD_76_MA.tif 21.jpg\n",
      "22\n",
      "IDRiD_77_MA.tif 22.jpg\n",
      "23\n",
      "IDRiD_78_MA.tif 23.jpg\n",
      "24\n",
      "IDRiD_79_MA.tif 24.jpg\n",
      "25\n",
      "IDRiD_80_MA.tif 25.jpg\n",
      "26\n",
      "IDRiD_81_MA.tif 26.jpg\n"
     ]
    }
   ],
   "source": [
    "get_data('MA','masks_Microaneurysms_pre_1280')"
   ]
  },
  {
   "cell_type": "code",
   "execution_count": 6,
   "metadata": {},
   "outputs": [
    {
     "name": "stdout",
     "output_type": "stream",
     "text": [
      "['8.jpg', '9.jpg', '14.jpg', '15.jpg', '17.jpg', '16.jpg', '12.jpg', '13.jpg', '11.jpg', '10.jpg', '20.jpg', '18.jpg', '19.jpg', '4.jpg', '5.jpg', '7.jpg', '6.jpg', '2.jpg', '3.jpg', '1.jpg', '0.jpg']\n",
      "a\n",
      "0\n",
      "IDRiD_55_HE.tif 0.jpg\n",
      "1\n",
      "IDRiD_56_HE.tif 1.jpg\n",
      "2\n",
      "IDRiD_57_HE.tif 2.jpg\n",
      "3\n",
      "IDRiD_58_HE.tif 3.jpg\n",
      "4\n",
      "IDRiD_59_HE.tif 4.jpg\n",
      "5\n",
      "IDRiD_60_HE.tif 5.jpg\n",
      "6\n",
      "IDRiD_61_HE.tif 6.jpg\n",
      "7\n",
      "IDRiD_62_HE.tif 7.jpg\n",
      "8\n",
      "IDRiD_63_HE.tif 8.jpg\n",
      "9\n",
      "IDRiD_64_HE.tif 9.jpg\n",
      "10\n",
      "IDRiD_66_HE.tif 10.jpg\n",
      "11\n",
      "IDRiD_68_HE.tif 11.jpg\n",
      "12\n",
      "IDRiD_70_HE.tif 12.jpg\n",
      "13\n",
      "IDRiD_71_HE.tif 13.jpg\n",
      "14\n",
      "IDRiD_72_HE.tif 14.jpg\n",
      "15\n",
      "IDRiD_73_HE.tif 15.jpg\n",
      "16\n",
      "IDRiD_74_HE.tif 16.jpg\n",
      "17\n",
      "IDRiD_76_HE.tif 17.jpg\n",
      "18\n",
      "IDRiD_78_HE.tif 18.jpg\n",
      "19\n",
      "IDRiD_80_HE.tif 19.jpg\n",
      "20\n",
      "IDRiD_81_HE.tif 20.jpg\n"
     ]
    }
   ],
   "source": [
    "get_data('HE','masks_Haemorrhages_pre')"
   ]
  },
  {
   "cell_type": "code",
   "execution_count": null,
   "metadata": {},
   "outputs": [],
   "source": []
  }
 ],
 "metadata": {
  "kernelspec": {
   "display_name": "Python 3",
   "language": "python",
   "name": "python3"
  },
  "language_info": {
   "codemirror_mode": {
    "name": "ipython",
    "version": 3
   },
   "file_extension": ".py",
   "mimetype": "text/x-python",
   "name": "python",
   "nbconvert_exporter": "python",
   "pygments_lexer": "ipython3",
   "version": "3.6.9"
  }
 },
 "nbformat": 4,
 "nbformat_minor": 4
}
